{
 "cells": [
  {
   "cell_type": "markdown",
   "id": "ad65fd05-4eda-49fc-9d6d-8f94468f82d9",
   "metadata": {},
   "source": [
    "# **CREDIT  EDA AND ANALYSIS**"
   ]
  },
  {
   "cell_type": "markdown",
   "id": "a11628a8-0cf4-47ad-a0ca-c606b4d843c2",
   "metadata": {
    "tags": []
   },
   "source": [
    "Esse notebook fas parte do Curso SQL para análise de dados da EBAC.\n"
   ]
  },
  {
   "cell_type": "markdown",
   "id": "3f084097-291f-47e1-b029-ba9f69dc8a3c",
   "metadata": {
    "tags": []
   },
   "source": [
    "** **\n",
    "## **I - Exploração e análise de dados de crédito com SQL**\n"
   ]
  },
  {
   "cell_type": "markdown",
   "id": "0ca738b3-16ae-4d47-a436-51380344a184",
   "metadata": {},
   "source": [
    "### **Dos Dados:**\n",
    "\n",
    "O banco de dados contém informações de clientes de uma instituição bancária e possui 13 colunas a seguir discirminadas:\n",
    "\n",
    "* idade = idade do cliente\n",
    "* sexo = sexo do cliente (F ou M)\n",
    "* dependentes = numéros de dependentes do cliente\n",
    "* escolaridade = nível de escolaridade dos clientes\n",
    "* estado_civil = estado civil do cliente\n",
    "* salário_anual = faixa salarial do cliente\n",
    "* tipo_cartao =  tipo de cartão do cliente\n",
    "* qtd_produtos = quantidade de produtos compados nos últimos 12 meses\n",
    "* iterações_12m = quantidade de iteração/transações nos últimos 12 meses\n",
    "* meses_inativo_12m = quantidade de meses que o cliente ficou inativo\n",
    "* limite_credito = limite de credito do cliente\n",
    "* valor_transacoes = valor de transações dos últimos 12 meses\n",
    "* qtd_transacoes_12m = quantidade de transações dos últimos 12 meses \n",
    "\n",
    "A tabela foi criada no **AWS Athena** junto com o **S3 Bucket** com uma versão dos dados disponibilizados em: hhtps://github.com/andre-marcos-perez/ebac-course-utils/tree/main/dataset\n"
   ]
  },
  {
   "cell_type": "markdown",
   "id": "4cab43f0-f4ee-4f4b-a9e0-5d9bb40625b3",
   "metadata": {},
   "source": [
    "### **Exploração de Dados**\n",
    "\n",
    "A Primeira fase de análise é entender o que tem no nosso banco de dados. Vamos a exploração de dados:\n",
    "\n",
    "**Qual a quantidade de informações temos na nossa base de dados?**\n",
    "\n",
    "Query: SELECT count(*) FROM credito\n",
    "\n",
    "> Resposta: 2564 linhas\n",
    "\n",
    "**OBS:** A base de dados do link acima contém mais linhas do que a seleção utilizada. Na prática, quanto maior a quantidade de dados utilizada, mais confiável é a análise. Contudo por questões de limites computacionais e financeiros, a redução de dados para análise foi aplicada, visto que o presente projeto possui fins de estudo."
   ]
  },
  {
   "cell_type": "markdown",
   "id": "c173b756-f691-403e-a883-af973b55299f",
   "metadata": {},
   "source": [
    "**Como são os dados?**\n",
    "\n",
    "Query: SELECT * FROM credito LIMIT 10:\n",
    "\n",
    "![](https://github.com/FBMissono/Credit-EDA-and-Analysis/blob/master/01_Select_credito_limit_10.png?raw=true)\n",
    "\n",
    "> Observe-se que existem algumas informações nulas na tabela (valor 'na')."
   ]
  },
  {
   "cell_type": "markdown",
   "id": "8b8e59b0-9dca-47f3-80a9-988d31c7fb2e",
   "metadata": {},
   "source": [
    "**Quais os tipos de cada dado?**\n",
    "\n",
    "Query: DESCRIBE credito\n",
    "\n",
    "![](https://github.com/FBMissono/Credit-EDA-and-Analysis/blob/master/03%20-%20DESCRIBE_credito.png?raw=true)\n",
    "\n",
    "De posse das informações acerca do tipo de dados, vamos olhar mais atentamente para as variáveis que não são numéricas."
   ]
  },
  {
   "cell_type": "markdown",
   "id": "99baf88b-4cc1-481b-93ef-5c4a10886abb",
   "metadata": {},
   "source": [
    "**Quais são os tipos de escolaridade disponíveis na dataset?**\n",
    "\n",
    "Query: SELECT DISTINCT escolaridade FROM credito\n",
    "\n",
    "![](https://github.com/FBMissono/Credit-EDA-and-Analysis/blob/master/04%20-%20SELECT%20_DISTINCT_escolaridade_credito.png?raw=true)\n",
    "\n",
    "> Os dados constam com váriosníveis de escolaridade e percebe-se a presença de valores nulos ('na') no dataset, que será tratada mais tarde."
   ]
  },
  {
   "cell_type": "markdown",
   "id": "51611a8d-782f-49de-a5de-b54a173560be",
   "metadata": {},
   "source": [
    "**Quais são os tipos de estado_civil disponíveis no dataset?**\n",
    "\n",
    "Query: SELECT DISTINCT estado_civil FROM credito\n",
    "\n",
    "![](https://github.com/FBMissono/Credit-EDA-and-Analysis/blob/master/10%20-%20SELECT_DISTINCT_estado_civil.png?raw=true)\n",
    "\n",
    "> Novamente, encontraram-se valores nulos ('na') nos dados de estado_civil do cliente que deverá ser tratada mais tarde. \n",
    "\n"
   ]
  },
  {
   "cell_type": "markdown",
   "id": "de4d7db1-1867-4158-aa7e-538ae0ec018d",
   "metadata": {},
   "source": [
    "\n",
    "\n",
    "**Quais são os tipos de salario_anual disponíveis no dataset?**\n",
    "\n",
    "Query: SELECT DISTINCT salario_anual FROM credito\n",
    "\n",
    "![](https://github.com/FBMissono/Credit-EDA-and-Analysis/blob/master/11%20-%20SELECT_DISTINCT_salario_anual.png?raw=true)\n",
    "\n",
    "> Os salários nesse dataset estão categorizados em faixa salarial, ou seja não informa o valor exato do salário que o cliente ganha. Tmabém contém valores nulos ('na')."
   ]
  },
  {
   "cell_type": "markdown",
   "id": "4aa2d71c-278a-4650-a087-ff3037f1e09f",
   "metadata": {
    "tags": []
   },
   "source": [
    "**Quais são os tipos de cartão disponíveis no dataset?**\n",
    "\n",
    "Query: SELECT DISTINCT tipo_cartão FROM credito\n",
    "\n",
    "![](https://github.com/FBMissono/Credit-EDA-and-Analysis/blob/master/12%20-%20SELECT_DISTINCT_tipo_cartao.png?raw=true)\n",
    "\n",
    "> Em relação aos dados tipos de cartão, como não há valores nulos ('na') não há necessitadade de realizar qualquer tipo de tratamento. "
   ]
  },
  {
   "cell_type": "markdown",
   "id": "50cbe6e7-da04-468a-b38a-120f45362c4b",
   "metadata": {},
   "source": [
    "** **\n",
    "## **ANALISE DE DADOS**"
   ]
  },
  {
   "cell_type": "markdown",
   "id": "71fd115d-84fe-427e-845d-fce4b48528e5",
   "metadata": {},
   "source": [
    "Uma vez explorados os dados do dataset, cabe entender quais são as informações que o dataset fornece. Para tanto, passaremos a uma análise bivariada (ou seja, analisaremos a relação entre vários dados (colunas) disponíveis no dataset.\n",
    "\n",
    "Assim, faremos as seguintes perguntas:"
   ]
  },
  {
   "cell_type": "markdown",
   "id": "a3e38013-034e-4ab3-91a6-50f6fe5b33e4",
   "metadata": {
    "tags": []
   },
   "source": [
    "**Nesse banco de dados, quantos clientes temos de cada faixa salarial?**"
   ]
  },
  {
   "cell_type": "markdown",
   "id": "8d46cf70-b2c9-4004-a8eb-c12b0ce6409e",
   "metadata": {},
   "source": [
    "Query: SELECT COUNT (*), salario_anual FROM credito GROUP BY salario_anual;"
   ]
  },
  {
   "cell_type": "markdown",
   "id": "67dacf87-7667-47dc-85c0-1b99ef18d494",
   "metadata": {},
   "source": [
    "![](https://github.com/FBMissono/Credit-EDA-and-Analysis/blob/master/05%20-%20SELECT_COUNT_GROUP_BY_salario_anual.png?raw=true)"
   ]
  },
  {
   "cell_type": "markdown",
   "id": "9b0a09ef-3d8f-48de-9fa2-e0769a8fd6c5",
   "metadata": {},
   "source": [
    "> A maioria dos clientes dessa base de dados possui uma renda de até 40K e existem 235 clientes que não informaram ou não consta a faixa salarial. De certa forma, pode ser interessante para a empresa focar nesse público de renda mais baixa."
   ]
  },
  {
   "cell_type": "markdown",
   "id": "aa6cfe55-b822-453a-a05a-61fafec8965a",
   "metadata": {},
   "source": [
    "**Nesse banco de dados, quantos clientes são homens e quantos são mulheres?**\n"
   ]
  },
  {
   "cell_type": "markdown",
   "id": "4ae724d2-bf48-46aa-9a37-f3b07344d76b",
   "metadata": {},
   "source": [
    "Query: SELECT COUNT (*) sexo FROM credito GROUP BY sexo;"
   ]
  },
  {
   "cell_type": "markdown",
   "id": "4b11a167-4af5-4fbe-a517-5d5c9897916a",
   "metadata": {},
   "source": [
    "![](https://github.com/FBMissono/Credit-EDA-and-Analysis/blob/master/06-SELICT_COUNT_GROUP_BY_sexo.png?raw=true)"
   ]
  },
  {
   "cell_type": "markdown",
   "id": "dbda2469-c763-41de-b67c-ed4332c52ef3",
   "metadata": {
    "tags": []
   },
   "source": [
    "![](https://github.com/FBMissono/Credit-EDA-and-Analysis/blob/master/Captura%20de%20tela%20de%202024-03-21%2010-20-01.png?raw=true)"
   ]
  },
  {
   "cell_type": "markdown",
   "id": "dd967446-83de-44fa-b485-c921a2a152dc",
   "metadata": {},
   "source": [
    "> A maioria dos clientes desse banco de dados é homem. "
   ]
  },
  {
   "cell_type": "markdown",
   "id": "bfa116ab-8192-422e-9a3a-ee4dfd9c2030",
   "metadata": {},
   "source": [
    "**Queremos focar o nosso marketing de maneira adequada para nossos clientes, qual será a idade deles?**\n"
   ]
  },
  {
   "cell_type": "markdown",
   "id": "5374bb9f-1a63-4a35-bf67-5355a0070e34",
   "metadata": {},
   "source": [
    "Query: SELECT AVG (idade) AS media_idade, MIN(idade) AS min_idade, MAX(idade) AS max_idade, sexo FROM credito GROUP BY sexo;"
   ]
  },
  {
   "cell_type": "markdown",
   "id": "13517c31-ee9b-4859-ad88-d57884087a84",
   "metadata": {},
   "source": [
    "![](https://github.com/FBMissono/Credit-EDA-and-Analysis/blob/master/SELECT%20_AVG_idade.png?raw=true)"
   ]
  },
  {
   "cell_type": "markdown",
   "id": "bdfb5c9a-01b8-4b6a-b8bc-399624cecdef",
   "metadata": {},
   "source": [
    "> Por meio dessa análise não foi possível extrair nenhuma informação relevante. A menoridade dos dois sexos é a mesma e a média é muito similar. A única diferença é a idade máxima mas é fato quase irrelevante pois a diferença não é tão gritante."
   ]
  },
  {
   "cell_type": "markdown",
   "id": "e9bb3915-1901-4980-b45f-f033501f67da",
   "metadata": {},
   "source": [
    "**Quais as características dos clientes que possuem os maiores creditos?**"
   ]
  },
  {
   "cell_type": "markdown",
   "id": "44d4780d-03b7-49e9-8346-c8ed73782b35",
   "metadata": {},
   "source": [
    "Query: SELECT MAX (limite_credito) AS limite_credito, escolaridade, tipo_cartao, sexo FROM credito WHERE escolaridade != 'na' AND tipo_cartao != 'na' GROUP BY escolaridade, tipo_cartao, sexo ORDER BY limite_credito DESC LIMIT 10;"
   ]
  },
  {
   "cell_type": "markdown",
   "id": "914408cd-5e04-428d-9f26-003578f878de",
   "metadata": {},
   "source": [
    "![](https://github.com/FBMissono/Credit-EDA-and-Analysis/blob/master/07%20-%20SELECT_MAX_limite_credito.png?raw=true)"
   ]
  },
  {
   "cell_type": "markdown",
   "id": "3608ee3d-a367-4692-9b0a-85dc1cacf777",
   "metadata": {},
   "source": [
    "> Verifica-se que a escolaridade não impacta o limite de credito dos clientes. O limite mais alto é concedido ao homem sem educação formal. O cartão também parecer não ter nenhuma relação com a escolaridade e o limite de crédito. Dentre os maiores limites, encontramos clientes com cartão: blue, gold, platinum e silver."
   ]
  },
  {
   "cell_type": "markdown",
   "id": "e9a4c017-1dbc-4ea4-a035-f00d4f63e6ae",
   "metadata": {},
   "source": [
    "**Quais as características dos clientes que possuem os menores creditos?**"
   ]
  },
  {
   "cell_type": "markdown",
   "id": "9f462e7f-f5fd-4e54-829c-ceecf0ba23e5",
   "metadata": {},
   "source": [
    "Query: SELECT MAX (limite_credito) AS limite_credito, escolaridade, tipo_cartao, sexo FROM credito WHERE escolaridade != 'na' AND tipo_cartao != 'na' GROUP BY escolaridade, tipo_caertao, sexo ORDER BY limite_credito ASC LIMIT 10;"
   ]
  },
  {
   "cell_type": "markdown",
   "id": "9dfc4969-0aca-469c-987e-a265d3f87586",
   "metadata": {},
   "source": [
    "![](https://github.com/FBMissono/Credit-EDA-and-Analysis/blob/master/SELECT_MIN%20_limite_credito.png?raw=true)"
   ]
  },
  {
   "cell_type": "markdown",
   "id": "bc18ca7d-f386-4359-bcd5-10a59119b135",
   "metadata": {},
   "source": [
    "> Verificamos que não há cliente com cartão platinum dentre os menores limites de credito. Percebe-se, ainda, que a maioria dos menores limites de crédito são mulheres enquanto que nos maiores limites predomina homens. "
   ]
  },
  {
   "cell_type": "markdown",
   "id": "1389947b-0ca5-42d7-909b-ef325563da92",
   "metadata": {},
   "source": [
    "**Será que as mulheres gastam mais que os homens?**"
   ]
  },
  {
   "cell_type": "markdown",
   "id": "732cd098-4958-4910-9400-724c644ad22c",
   "metadata": {},
   "source": [
    "Query: SELECT MAX (valor_transacoes_12m) AS maior_valor_gasto, AVG(valor_transacoes_12m) AS media_valor_gasto, MIN(valor_transacoes_12m) AS min_valor gasto, sexo FROM credito GROUP BY sexo;"
   ]
  },
  {
   "cell_type": "markdown",
   "id": "6123faa6-0156-4a0d-8397-42d421d410d6",
   "metadata": {},
   "source": [
    "![](https://github.com/FBMissono/Credit-EDA-and-Analysis/blob/master/08-SELECT_valor_transacoes_12m.png?raw=true)"
   ]
  },
  {
   "cell_type": "markdown",
   "id": "4c3830fe-9f5e-4409-afd0-929b6adb20dc",
   "metadata": {},
   "source": [
    "> Apesar da diferença nos limites, os gatos de homens e mulheres são similares."
   ]
  },
  {
   "cell_type": "markdown",
   "id": "7f577fe2-df2f-458a-9f4d-21f59c25e702",
   "metadata": {},
   "source": [
    "**O salario impacta no limite de crédito?**"
   ]
  },
  {
   "cell_type": "markdown",
   "id": "8fd5ede9-50d3-4007-841b-724b8b9adfab",
   "metadata": {},
   "source": [
    "Query: SELECT AVG(qtd_produtos) as qtd_produtos, avg(valor_transacoes_12m) as media_valor_transacoes, AVG(limite_credito) as media_limite, sexo, salario_anual FROM credito WHERE salario_anual != 'na' GROUP BY sexo, salario_anual ORDER BY avg(valor_transacoes_12m) desc;"
   ]
  },
  {
   "cell_type": "markdown",
   "id": "d877f1a5-7ddb-4014-8a74-8e58e3d43532",
   "metadata": {},
   "source": [
    "![](https://github.com/FBMissono/Credit-EDA-and-Analysis/blob/master/09-SELECT_salario_anual.png?raw=true)"
   ]
  },
  {
   "cell_type": "markdown",
   "id": "011ff639-2f74-499b-be6b-a6aa2ce60089",
   "metadata": {},
   "source": [
    "SIM. Pessoas na faixa salarial menor apresentam menor limite de crédito."
   ]
  },
  {
   "cell_type": "markdown",
   "id": "a684cfc5-0a3e-4ae2-b302-b0ca59b28f89",
   "metadata": {},
   "source": [
    "** **\n",
    "## **CONCLUSÃO**"
   ]
  },
  {
   "cell_type": "markdown",
   "id": "69223490-4625-4e81-89e8-e2b5a2f7fd45",
   "metadata": {},
   "source": [
    "Essas foram **algumas** análises extraídas do dataset de crédito.\n"
   ]
  },
  {
   "cell_type": "markdown",
   "id": "d5eb0dcf-a50d-462c-b4cb-0b08eccd75a6",
   "metadata": {},
   "source": [
    "Alguns insights interessantes:\n",
    "\n",
    "* a maior parte dos clientes possui renda até 40K;\n",
    "* a maior parte dos clientes são homens;\n",
    "* a escolaridade não parece influenciar no limite nem no tipo do cartão;\n",
    "* os clientes com maiores limites são em sua maioria homens;\n",
    "* os clientes com menores limites de crédito são em sua maioria mulheres;\n",
    "* dentre os menores limites não há presença de cartão platinum;\n",
    "* a faixa salarial impacta diretamente no limite de crédito;\n",
    "* não existem clientes com salário anual acima de 60K do sexo feminino.\n",
    "\n",
    "OBS: Uma exploração maior dos dados pode explicar porque as mulheres tem menor crédito. Isso também pode ser problema cultural que merece ser analisado e ajustado."
   ]
  },
  {
   "cell_type": "markdown",
   "id": "20a4600c-d7ec-4eb6-a11d-29e586682e93",
   "metadata": {},
   "source": []
  }
 ],
 "metadata": {
  "kernelspec": {
   "display_name": "Python 3 (ipykernel)",
   "language": "python",
   "name": "python3"
  },
  "language_info": {
   "codemirror_mode": {
    "name": "ipython",
    "version": 3
   },
   "file_extension": ".py",
   "mimetype": "text/x-python",
   "name": "python",
   "nbconvert_exporter": "python",
   "pygments_lexer": "ipython3",
   "version": "3.11.5"
  }
 },
 "nbformat": 4,
 "nbformat_minor": 5
}
