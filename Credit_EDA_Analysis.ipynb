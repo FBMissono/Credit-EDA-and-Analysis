{
 "cells": [
  {
   "cell_type": "markdown",
   "id": "ad65fd05-4eda-49fc-9d6d-8f94468f82d9",
   "metadata": {},
   "source": [
    "# **CREDIT  EDA AND ANALYSIS**"
   ]
  },
  {
   "cell_type": "markdown",
   "id": "a11628a8-0cf4-47ad-a0ca-c606b4d843c2",
   "metadata": {
    "tags": []
   },
   "source": [
    "Esse notebook fas parte do Curso SQL para análise de dados da EBAC.\n"
   ]
  },
  {
   "cell_type": "markdown",
   "id": "3f084097-291f-47e1-b029-ba9f69dc8a3c",
   "metadata": {
    "tags": []
   },
   "source": [
    "## **I - Exploração e análise de dados de crédito com SQL**\n"
   ]
  },
  {
   "cell_type": "markdown",
   "id": "0ca738b3-16ae-4d47-a436-51380344a184",
   "metadata": {},
   "source": [
    "### **Dos Dados:**\n",
    "\n",
    "O banco de dados contém informações de clientes de uma instituição bancária e possui 12 colunas a seguir discirminadas:\n",
    "\n",
    "* idade = idade do cliente\n",
    "* sexo = sexo do cliente (F ou M)\n",
    "* dependentes = numéros de dependentes do cliente\n",
    "* escolaridade = nível de escolaridade dos clientes\n",
    "* salário_anual = faixa salarial do cliente\n",
    "* tipo_cartao =  tipo de cartão do cliente\n",
    "* qtd_produtos = quantidade de produtos compados nos últimos 12 meses\n",
    "* iterações_12m = quantidade de iteração/transações nos últimos 12 meses\n",
    "* meses_inativo_12m = quantidade de meses que o cliente ficou inativo\n",
    "* limite_credito = limite de credito do cliente\n",
    "* valor_transacoes = quantidde de transações dos últimos 12 meses\n",
    "\n",
    "A tabela foi criada no **AWS Athena** junto com o **S3 Bucket** com uma versão dos dados disponibilizados em: hhtps://github.com/andre-marcos-perez/ebac-course-utils/tree/main/dataset\n"
   ]
  },
  {
   "cell_type": "markdown",
   "id": "4cab43f0-f4ee-4f4b-a9e0-5d9bb40625b3",
   "metadata": {},
   "source": [
    "### **Exploração de Dados**\n",
    "\n",
    "A Primeira fase de análise é entender o que tem no nosso banco de dados. Vamos a exploração de dados:\n",
    "\n",
    "**Qual a quantidade de informações temos na nossa base de dados?**\n",
    "\n",
    "Query: SELECT count(*) FROM credito\n",
    "\n",
    "> Resposta: 2564 linhas\n",
    "\n",
    "**OBS:** A base de dados do link acima contém mais linhas do que a seleção utilizada. Na prática, quanto maior a quantidade de dados utilizada, mais confiável é a análise. Contudo por questões de limites computacionais e financeiros, a redução de dados para análise foi aplicada, visto que o presente projeto possui fins de estudo."
   ]
  },
  {
   "cell_type": "markdown",
   "id": "c173b756-f691-403e-a883-af973b55299f",
   "metadata": {},
   "source": [
    "**Como são os dados?**\n",
    "\n",
    "Query: SELECT * FROM credito LIMIT 10:\n",
    "\n",
    "!(https://github.com/FBMissono/Credit-EDA-and-Analysis/blob/master/01_Select_credito_limit_10.png?raw=true)\n"
   ]
  }
 ],
 "metadata": {
  "kernelspec": {
   "display_name": "Python 3 (ipykernel)",
   "language": "python",
   "name": "python3"
  },
  "language_info": {
   "codemirror_mode": {
    "name": "ipython",
    "version": 3
   },
   "file_extension": ".py",
   "mimetype": "text/x-python",
   "name": "python",
   "nbconvert_exporter": "python",
   "pygments_lexer": "ipython3",
   "version": "3.11.5"
  }
 },
 "nbformat": 4,
 "nbformat_minor": 5
}
